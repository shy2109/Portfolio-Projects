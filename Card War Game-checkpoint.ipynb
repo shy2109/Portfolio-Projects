{
 "cells": [
  {
   "cell_type": "code",
   "execution_count": 27,
   "metadata": {},
   "outputs": [],
   "source": [
    "import random\n",
    "\n",
    "suits = ('Hearts', 'Diamonds', 'Spades', 'Clubs')\n",
    "\n",
    "ranks = ('Two', 'Three', 'Four', 'Five', 'Six', 'Seven', 'Eight', 'Nine', 'Ten', 'Jack', 'Queen', 'King', 'Ace')\n",
    "\n",
    "values = {'Two':2, 'Three':3, 'Four':4, 'Five':5, 'Six':6, 'Seven':7, 'Eight':8, \n",
    "            'Nine':9, 'Ten':10, 'Jack':11, 'Queen':12, 'King':13, 'Ace':14}"
   ]
  },
  {
   "cell_type": "code",
   "execution_count": 28,
   "metadata": {},
   "outputs": [],
   "source": [
    "#CARD Class for suit, rank,value\n",
    "class Card():\n",
    "    def __init__(self,suit,rank):\n",
    "        self.suit=suit\n",
    "        self.rank=rank\n",
    "        self.value=values[rank]\n",
    "    def __str__(self):\n",
    "        return self.suit + \" of \" + self.rank"
   ]
  },
  {
   "cell_type": "code",
   "execution_count": 29,
   "metadata": {},
   "outputs": [],
   "source": [
    "#Deck CLass\n",
    "class Deck():\n",
    "    def __init__(self):\n",
    "        self.all_cards=[]\n",
    "        for suit in suits:\n",
    "            for rank in ranks:\n",
    "                created_card=Card(suit,rank)\n",
    "                self.all_cards.append(created_card)\n",
    "    def Shuffle(self):\n",
    "        random.shuffle(self.all_cards)\n",
    "    def Deal_One(self):\n",
    "        return self.all_cards.pop()"
   ]
  },
  {
   "cell_type": "code",
   "execution_count": 30,
   "metadata": {},
   "outputs": [],
   "source": [
    "#Player Class to play the game\n",
    "class Player():\n",
    "    def __init__(self,name):\n",
    "        self.name=name\n",
    "        self.all_cards=[]\n",
    "        \n",
    "    def remove_one(self):\n",
    "        return self.all_cards.pop(0)\n",
    "    \n",
    "    def add_cards(self,new_cards):\n",
    "        if type(new_cards)==type([]):\n",
    "            return self.all_cards.extend(new_cards)\n",
    "        else:\n",
    "            return self.all_cards.append(new_cards)\n",
    "        \n",
    "    def __str__(self):\n",
    "        return f\"Player {self.name} has {len(self.all_cards)} cards\""
   ]
  },
  {
   "cell_type": "code",
   "execution_count": 12,
   "metadata": {},
   "outputs": [],
   "source": [
    "j=Player(\"Jose\")"
   ]
  },
  {
   "cell_type": "code",
   "execution_count": 13,
   "metadata": {},
   "outputs": [
    {
     "name": "stdout",
     "output_type": "stream",
     "text": [
      "Player Jose has 0 cards\n"
     ]
    }
   ],
   "source": [
    "print(j)"
   ]
  },
  {
   "cell_type": "code",
   "execution_count": 31,
   "metadata": {},
   "outputs": [],
   "source": [
    "#game set  up\n",
    "player_one=Player(\"One\")\n",
    "player_two=Player(\"Two\")\n",
    "\n",
    "new_deck=Deck()\n",
    "new_deck.Shuffle()\n",
    "\n",
    "for x in range(26):\n",
    "    player_one.add_cards(new_deck.Deal_One())\n",
    "    player_two.add_cards(new_deck.Deal_One())"
   ]
  },
  {
   "cell_type": "code",
   "execution_count": 23,
   "metadata": {},
   "outputs": [],
   "source": [
    "game_on= True"
   ]
  },
  {
   "cell_type": "code",
   "execution_count": 35,
   "metadata": {},
   "outputs": [],
   "source": [
    "#while game on\n",
    "import pdb\n",
    "round_num=0\n",
    "while game_on:\n",
    "    round_num +=1\n",
    "    print(f\"Round: {round_num}\")\n",
    "    \n",
    "    if len(player_one.all_cards)==0:\n",
    "        print (f'Player Two wins!')\n",
    "    if len(player_two.all_cards)==0:\n",
    "        print (f'Player One wins!')\n",
    "#start a new round\n",
    "    player_one_cards=[]\n",
    "    player_one_cards.append(player_one.remove_one())\n",
    "    player_two_cards=[]\n",
    "    player_two_cards.append(player_two.remove_one())\n",
    "#while at war\n",
    "    at_war=True\n",
    "    while at_war:\n",
    "        if player_one_cards[-1].value > player_two_cards[-1].value:\n",
    "            player_one.add_cards(player_one_cards)\n",
    "            player_one.add_cards(player_two_cards)\n",
    "            \n",
    "            at_war=False\n",
    "        elif player_one_cards[-1].value < player_two_cards[-1].value:\n",
    "                player_two.add_cards(player_one_cards)\n",
    "                player_two.add_cards(player_two_cards)\n",
    "                at_war=False\n",
    "        else:\n",
    "            print('WAR')\n",
    "            \n",
    "            if len(player_one.all_cards)<5:\n",
    "                print(\"Player One out of cards.Player Two Wins\")\n",
    "                game_on=False\n",
    "                break\n",
    "            elif len(player_two.all_cards)<5:\n",
    "                print(\"Player Two out of cards.Player One Wins\")\n",
    "                game_on=False\n",
    "                break\n",
    "            else:\n",
    "                for num in range(5):\n",
    "                    player_one_cards.append(player_one.remove_one())\n",
    "                    player_two_cards.append(player_two.remove_one())\n",
    "        "
   ]
  },
  {
   "cell_type": "code",
   "execution_count": 2,
   "metadata": {},
   "outputs": [],
   "source": []
  },
  {
   "cell_type": "code",
   "execution_count": null,
   "metadata": {},
   "outputs": [],
   "source": []
  },
  {
   "cell_type": "code",
   "execution_count": null,
   "metadata": {},
   "outputs": [],
   "source": []
  },
  {
   "cell_type": "code",
   "execution_count": null,
   "metadata": {},
   "outputs": [],
   "source": []
  }
 ],
 "metadata": {
  "kernelspec": {
   "display_name": "Python 3",
   "language": "python",
   "name": "python3"
  },
  "language_info": {
   "codemirror_mode": {
    "name": "ipython",
    "version": 3
   },
   "file_extension": ".py",
   "mimetype": "text/x-python",
   "name": "python",
   "nbconvert_exporter": "python",
   "pygments_lexer": "ipython3",
   "version": "3.7.0"
  }
 },
 "nbformat": 4,
 "nbformat_minor": 2
}
